{
  "nbformat": 4,
  "nbformat_minor": 0,
  "metadata": {
    "kernelspec": {
      "display_name": "demo",
      "language": "python",
      "name": "demo"
    },
    "language_info": {
      "codemirror_mode": {
        "name": "ipython",
        "version": 3
      },
      "file_extension": ".py",
      "mimetype": "text/x-python",
      "name": "python",
      "nbconvert_exporter": "python",
      "pygments_lexer": "ipython3",
      "version": "3.8.5"
    },
    "colab": {
      "name": "3-quantum-gradients.ipynb",
      "provenance": []
    }
  },
  "cells": [
    {
      "cell_type": "code",
      "metadata": {
        "id": "39hfro50I-ku",
        "colab": {
          "base_uri": "https://localhost:8080/"
        },
        "outputId": "527446ae-3fd6-44d3-8a39-0224bac1ca4a"
      },
      "source": [
        "import sys\n",
        "\n",
        "## Comment this out if you don't want to install pennylane from this notebook\n",
        "!{sys.executable} -m pip install pennylane\n",
        "\n",
        "## Comment this out if you don't want to install matplotlib from this notebook\n",
        "!{sys.executable} -m pip install matplotlib"
      ],
      "execution_count": null,
      "outputs": [
        {
          "output_type": "stream",
          "text": [
            "Requirement already satisfied: pennylane in /usr/local/lib/python3.6/dist-packages (0.14.0)\n",
            "Requirement already satisfied: toml in /usr/local/lib/python3.6/dist-packages (from pennylane) (0.10.2)\n",
            "Requirement already satisfied: semantic-version==2.6 in /usr/local/lib/python3.6/dist-packages (from pennylane) (2.6.0)\n",
            "Requirement already satisfied: appdirs in /usr/local/lib/python3.6/dist-packages (from pennylane) (1.4.4)\n",
            "Requirement already satisfied: autograd in /usr/local/lib/python3.6/dist-packages (from pennylane) (1.3)\n",
            "Requirement already satisfied: networkx in /usr/local/lib/python3.6/dist-packages (from pennylane) (2.5)\n",
            "Requirement already satisfied: scipy in /usr/local/lib/python3.6/dist-packages (from pennylane) (1.4.1)\n",
            "Requirement already satisfied: numpy in /usr/local/lib/python3.6/dist-packages (from pennylane) (1.19.5)\n",
            "Requirement already satisfied: future>=0.15.2 in /usr/local/lib/python3.6/dist-packages (from autograd->pennylane) (0.16.0)\n",
            "Requirement already satisfied: decorator>=4.3.0 in /usr/local/lib/python3.6/dist-packages (from networkx->pennylane) (4.4.2)\n",
            "Requirement already satisfied: matplotlib in /usr/local/lib/python3.6/dist-packages (3.2.2)\n",
            "Requirement already satisfied: pyparsing!=2.0.4,!=2.1.2,!=2.1.6,>=2.0.1 in /usr/local/lib/python3.6/dist-packages (from matplotlib) (2.4.7)\n",
            "Requirement already satisfied: kiwisolver>=1.0.1 in /usr/local/lib/python3.6/dist-packages (from matplotlib) (1.3.1)\n",
            "Requirement already satisfied: python-dateutil>=2.1 in /usr/local/lib/python3.6/dist-packages (from matplotlib) (2.8.1)\n",
            "Requirement already satisfied: cycler>=0.10 in /usr/local/lib/python3.6/dist-packages (from matplotlib) (0.10.0)\n",
            "Requirement already satisfied: numpy>=1.11 in /usr/local/lib/python3.6/dist-packages (from matplotlib) (1.19.5)\n",
            "Requirement already satisfied: six>=1.5 in /usr/local/lib/python3.6/dist-packages (from python-dateutil>=2.1->matplotlib) (1.15.0)\n",
            "\u001b[31mERROR: Could not find a version that satisfies the requirement amazon-braket-pennylane-plugin (from versions: none)\u001b[0m\n",
            "\u001b[31mERROR: No matching distribution found for amazon-braket-pennylane-plugin\u001b[0m\n"
          ],
          "name": "stdout"
        }
      ]
    },
    {
      "cell_type": "code",
      "metadata": {
        "colab": {
          "base_uri": "https://localhost:8080/"
        },
        "id": "MqQNPc3NmkWt",
        "outputId": "0f96688c-c409-400c-86f1-7351dd9ee0b2"
      },
      "source": [
        "## Comment this out if you don't want to install the Amazon-Braket plugin from this notebook\n",
        "!git clone https://github.com/aws/amazon-braket-pennylane-plugin-python.git\n",
        "!pip install amazon-braket-pennylane-plugin-python/"
      ],
      "execution_count": null,
      "outputs": [
        {
          "output_type": "stream",
          "text": [
            "fatal: destination path 'amazon-braket-pennylane-plugin-python' already exists and is not an empty directory.\n",
            "Processing ./amazon-braket-pennylane-plugin-python\n",
            "  Installing build dependencies ... \u001b[?25l\u001b[?25hdone\n",
            "  Getting requirements to build wheel ... \u001b[?25l\u001b[?25hdone\n",
            "    Preparing wheel metadata ... \u001b[?25l\u001b[?25hdone\n",
            "\u001b[31mERROR: Package 'amazon-braket-pennylane-plugin' requires a different Python: 3.6.9 not in '>= 3.7.2'\u001b[0m\n"
          ],
          "name": "stdout"
        }
      ]
    },
    {
      "cell_type": "markdown",
      "metadata": {
        "id": "6i4quOW-I-kw"
      },
      "source": [
        "\n",
        "# Computing quantum gradients on any device\n",
        "\n",
        "In the last two notebooks we saw that PennyLane allows you to slot quantum computations into automatic differentiation frameworks. While we used the Numpy/Autograd framework, you can also interface PennyLane with PyTorch, Tensorflow and Jax.\n",
        "\n",
        "This may not be a surprise: if quantum computations are simulated by coding up matrix-vector multiplications in a specific coding language, then they become just normal differentiable computations.\n",
        "\n",
        "But we can also compute gradients of quantum computations, and slot them into automatic differentiation interfaces, if they are executed on a remote simulator that is not implemented in an autodiff fashion, or even on quantum hardware!\n",
        "\n",
        "In PennyLane, any quantum device, whether a hardware device or a simulator, can be trained using the [parameter-shift rule](https://pennylane.ai/qml/glossary/parameter_shift.html) to compute quantum gradients. Indeed, the parameter-shift rule is ideally suited to hardware devices, as it does\n",
        "not require any knowledge about the internal workings of the device; it is sufficient to treat the device as a 'black box', and to query it with different input values in order to determine the gradient.\n",
        "\n",
        "## The parameter-shift rule\n",
        "\n",
        "\n",
        "The parameter-shift rule states that, given a variational quantum circuit $U(\\boldsymbol\n",
        "\\theta)$ composed of parametrized Pauli rotations, and some measured observable $\\mathcal{M}$, the\n",
        "derivative of the expectation value\n",
        "\n",
        "\n",
        "\\begin{align}\\langle \\mathcal{M} \\rangle (\\boldsymbol\\theta) =\n",
        "    \\langle 0 \\vert U(\\boldsymbol\\theta)^\\dagger \\mathcal{M} U(\\boldsymbol\\theta) \\vert 0\\rangle\\end{align}\n",
        "\n",
        "with respect to the input circuit parameters $\\boldsymbol{\\theta}$ is given by\n",
        "\n",
        "\\begin{align}\\nabla_{\\theta_i}\\langle \\mathcal{M} \\rangle(\\boldsymbol\\theta)\n",
        "      =  \\frac{1}{2}\n",
        "            \\left[\n",
        "                \\langle \\mathcal{M} \\rangle\\left(\\boldsymbol\\theta + \\frac{\\pi}{2}\\hat{\\mathbf{e}}_i\\right)\n",
        "              - \\langle \\mathcal{M} \\rangle\\left(\\boldsymbol\\theta - \\frac{\\pi}{2}\\hat{\\mathbf{e}}_i\\right)\n",
        "            \\right].\\end{align}\n",
        "\n",
        "Thus, the gradient of the expectation value can be calculated by evaluating the same variational quantum circuit, but with shifted parameter values (hence the name, parameter-shift rule!).\n",
        "\n"
      ]
    },
    {
      "cell_type": "code",
      "metadata": {
        "id": "W9J7JpNNknG7"
      },
      "source": [
        "import pennylane as qml\n",
        "from pennylane import numpy as np"
      ],
      "execution_count": null,
      "outputs": []
    },
    {
      "cell_type": "markdown",
      "metadata": {
        "id": "iFOUl-CnI-ky"
      },
      "source": [
        "## The PennyLane-Braket plugin"
      ]
    },
    {
      "cell_type": "markdown",
      "metadata": {
        "id": "1HVm64WWI-ky"
      },
      "source": [
        "Although the `default.qubit` device can also implement the parameter shift rule, we will use an external device for this tutorial, which is also the latest addition to the PennyLane eco-system: the [Amazon-Braket device](https://amazon-braket-pennylane-plugin-python.readthedocs.io/en/latest/). In fact, there are two devices available, a local simulator using the Braket SDK, and a remote device that interacts with Amazon's remote high-performance simulators and quantum hardware.\n",
        "\n",
        "By installing the Amazon-Braket plugin above, all devices should be available to you. For simplicity, we will use the local simulator here. Alternatively, you could use `default.qubit` again - just replace the device name where appropriate below. "
      ]
    },
    {
      "cell_type": "code",
      "metadata": {
        "id": "FqTDlFNfI-kz"
      },
      "source": [
        "dev = qml.device(\"default.qubit\", wires=2) # CHANGE"
      ],
      "execution_count": null,
      "outputs": []
    },
    {
      "cell_type": "markdown",
      "metadata": {
        "id": "jcFzzMPhI-k1"
      },
      "source": [
        "Let's first have a go implementing the parameter-shift rule manually in PennyLane using the Amazon-Braket device. We use the quantum model from the previous notebook."
      ]
    },
    {
      "cell_type": "code",
      "metadata": {
        "id": "q-OLTiSII-k1",
        "colab": {
          "base_uri": "https://localhost:8080/"
        },
        "outputId": "ab719876-147d-4406-819f-49b6b151a876"
      },
      "source": [
        "@qml.qnode(dev, diff_method='parameter-shift')\n",
        "def quantum_model(x, w):\n",
        "    qml.templates.AngleEmbedding(x, wires=[0, 1])\n",
        "    qml.templates.BasicEntanglerLayers(w, wires=[0, 1])\n",
        "    return qml.expval(qml.PauliZ(wires=0))\n",
        "\n",
        "x = np.array([0.1, 0.2], requires_grad=False)\n",
        "w = np.array([[-2.1, 1.2], [-1.4, -3.9], [0.5, 0.2]])\n",
        "\n",
        "quantum_model(x, w)"
      ],
      "execution_count": null,
      "outputs": [
        {
          "output_type": "execute_result",
          "data": {
            "text/plain": [
              "tensor(0.012023, requires_grad=True)"
            ]
          },
          "metadata": {
            "tags": []
          },
          "execution_count": 31
        }
      ]
    },
    {
      "cell_type": "code",
      "metadata": {
        "colab": {
          "base_uri": "https://localhost:8080/"
        },
        "id": "WBDp8Vg9spMv",
        "outputId": "7c2e0795-0900-4315-db15-b77c36a8b30b"
      },
      "source": [
        "print(quantum_model.draw())"
      ],
      "execution_count": null,
      "outputs": [
        {
          "output_type": "stream",
          "text": [
            " 0: ──RX(0.1)──RX(-2.1)──╭C──RX(-1.4)──╭C──RX(0.5)──╭C──┤ ⟨Z⟩ \n",
            " 1: ──RX(0.2)──RX(1.2)───╰X──RX(-3.9)──╰X──RX(0.2)──╰X──┤     \n",
            "\n"
          ],
          "name": "stdout"
        }
      ]
    },
    {
      "cell_type": "markdown",
      "metadata": {
        "id": "J491XZp6I-k3"
      },
      "source": [
        "Now that we have defined our variational circuit QNode, we can construct\n",
        "a function that computes the gradient of the $i\\text{th}$ parameter\n",
        "using the parameter-shift rule. Since the model also depends on input $x$, the gradient will be computed for this fixed $x$ only.\n"
      ]
    },
    {
      "cell_type": "code",
      "metadata": {
        "id": "BMIoXqxdI-k4",
        "colab": {
          "base_uri": "https://localhost:8080/"
        },
        "outputId": "ca683e7a-be2d-42c9-c5ae-8ed30b4de6eb"
      },
      "source": [
        "def parameter_shift_term(qnode, params, x, i, j):\n",
        "    shifted = params.copy()\n",
        "    shifted[i, j] += np.pi/2\n",
        "    forward = qnode(x, shifted)  # forward evaluation\n",
        "\n",
        "    shifted[i, j] -= np.pi\n",
        "    backward = qnode(x, shifted) # backward evaluation\n",
        "\n",
        "    return 0.5 * (forward - backward)\n",
        "\n",
        "# gradient with respect to the first parameter\n",
        "print(parameter_shift_term(quantum_model, w, x, 0, 0))"
      ],
      "execution_count": null,
      "outputs": [
        {
          "output_type": "stream",
          "text": [
            "0.16954137293040533\n"
          ],
          "name": "stdout"
        }
      ]
    },
    {
      "cell_type": "markdown",
      "metadata": {
        "id": "ZzZ5um5VI-k4"
      },
      "source": [
        "In order to compute the gradient with respect to *all* parameters, we need\n",
        "to loop over the indices ``i`` and ``j``:\n",
        "\n"
      ]
    },
    {
      "cell_type": "code",
      "metadata": {
        "id": "1k_45vk_I-k4",
        "colab": {
          "base_uri": "https://localhost:8080/"
        },
        "outputId": "cccb11ec-0d17-4af6-f65b-af4209653b5d"
      },
      "source": [
        "def parameter_shift(qnode, params, x):\n",
        "    gradients = np.zeros_like((params))\n",
        "\n",
        "    for i in range(len(gradients)):\n",
        "      for j in range(len(gradients[0])):\n",
        "        gradients[i, j] = parameter_shift_term(qnode, w, x, i, j)\n",
        "\n",
        "    return gradients\n",
        "\n",
        "print(parameter_shift(quantum_model, w, x))"
      ],
      "execution_count": null,
      "outputs": [
        {
          "output_type": "stream",
          "text": [
            "[[1.69541373e-01 0.00000000e+00]\n",
            " [6.97079563e-02 1.11022302e-16]\n",
            " [1.69541373e-01 0.00000000e+00]]\n"
          ],
          "name": "stdout"
        }
      ]
    },
    {
      "cell_type": "markdown",
      "metadata": {
        "id": "RToLvQIFI-k5"
      },
      "source": [
        "We can compare this to PennyLane's *built-in* parameter-shift feature by using\n",
        "the `qml.grad` function. Remember, when we defined the\n",
        "QNode, we specified that we wanted it to be differentiable using the parameter-shift\n",
        "method (``diff_method=\"parameter-shift\"``).\n"
      ]
    },
    {
      "cell_type": "code",
      "metadata": {
        "id": "v21125ecI-k6",
        "colab": {
          "base_uri": "https://localhost:8080/"
        },
        "outputId": "3e0ad358-7780-481d-80fd-f7d585990292"
      },
      "source": [
        "grad_function = qml.grad(quantum_model, argnum=1)\n",
        "\n",
        "print(grad_function(x, w))"
      ],
      "execution_count": null,
      "outputs": [
        {
          "output_type": "stream",
          "text": [
            "[[1.69541373e-01 0.00000000e+00]\n",
            " [6.97079563e-02 1.11022302e-16]\n",
            " [1.69541373e-01 0.00000000e+00]]\n"
          ],
          "name": "stdout"
        }
      ]
    },
    {
      "cell_type": "markdown",
      "metadata": {
        "id": "5OZsKssBI-k6"
      },
      "source": [
        "If you count the number of quantum evaluations, you will notice that we had to evaluate the circuit roughly\n",
        "``2*len(params)`` number of times in order to compute the quantum gradient with respect to all\n",
        "parameters. \n",
        "\n",
        "\n"
      ]
    },
    {
      "cell_type": "code",
      "metadata": {
        "colab": {
          "base_uri": "https://localhost:8080/"
        },
        "id": "RdHKpihpvCYZ",
        "outputId": "2abedb90-e099-4a0c-8dac-729ea06b4922"
      },
      "source": [
        "before = dev.num_executions \n",
        "grad_function = qml.grad(quantum_model, argnum=1)\n",
        "grad_function(x, w)\n",
        "after = dev.num_executions\n",
        "print(\"Number of evaluations per gradient:\", after-before)"
      ],
      "execution_count": null,
      "outputs": [
        {
          "output_type": "stream",
          "text": [
            "Number of evaluations per gradient: 13\n"
          ],
          "name": "stdout"
        }
      ]
    },
    {
      "cell_type": "markdown",
      "metadata": {
        "id": "LpO7WcDjvBV6"
      },
      "source": [
        "\n",
        "While reasonably fast for a small number of parameters, as the number of parameters in\n",
        "our quantum circuit grows, so does both\n",
        "\n",
        "1. the circuit depth (and thus the time taken to evaluate each expectation value or 'forward' pass), and\n",
        "\n",
        "2. the number of parameter-shift evaluations required.\n",
        "\n",
        "Both of these factors increase the time taken to compute the gradient with\n",
        "respect to all parameters."
      ]
    },
    {
      "cell_type": "markdown",
      "metadata": {
        "id": "UtK1fbrVI-k7"
      },
      "source": [
        "#  ====== TASKS =============\n",
        "\n",
        "1. Create a new `default.qubit` device where you can set the `diff_method` explicitely to `backprop`. This will use automatic differentiation tricks to compute gradients much more efficiently for simulations (as implicitely used in the previous notebooks). Find out how often the device is evaluated when you compute a gradient using the `qml.grad` function. \n",
        "\n",
        "2. In each step of gradient descent we need to compute the gradient of a quantum computation. Write a function that takes the number of parameters as well as the number of steps and returns the number of circuit evaluations needed for gradient descent training with a parameter shift rule.  "
      ]
    },
    {
      "cell_type": "code",
      "metadata": {
        "id": "jDJsGhwqI-k8",
        "colab": {
          "base_uri": "https://localhost:8080/"
        },
        "outputId": "05159a43-8e42-48b5-c877-ee5df22aec75"
      },
      "source": [
        "dev = qml.device(\"default.qubit\", wires=2) \n",
        "\n",
        "@qml.qnode(dev, diff_method='backprop')\n",
        "def quantum_model(x, w):\n",
        "    qml.templates.AngleEmbedding(x, wires=[0, 1])\n",
        "    qml.templates.BasicEntanglerLayers(w, wires=[0, 1])\n",
        "    return qml.expval(qml.PauliZ(wires=0))\n",
        "\n",
        "before = dev.num_executions \n",
        "grad_function = qml.grad(quantum_model, argnum=1)\n",
        "grad_function(x, w)\n",
        "after = dev.num_executions\n",
        "print(\"Number of evaluations per gradient:\", after-before)"
      ],
      "execution_count": null,
      "outputs": [
        {
          "output_type": "stream",
          "text": [
            "Number of evaluations per gradient: 1\n"
          ],
          "name": "stdout"
        }
      ]
    },
    {
      "cell_type": "code",
      "metadata": {
        "id": "ca6JthZCwpKj"
      },
      "source": [
        ""
      ],
      "execution_count": null,
      "outputs": []
    }
  ]
}