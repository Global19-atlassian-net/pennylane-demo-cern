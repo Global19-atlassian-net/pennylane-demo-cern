{
  "nbformat": 4,
  "nbformat_minor": 0,
  "metadata": {
    "kernelspec": {
      "display_name": "env_pl",
      "language": "python",
      "name": "env_pl"
    },
    "language_info": {
      "codemirror_mode": {
        "name": "ipython",
        "version": 3
      },
      "file_extension": ".py",
      "mimetype": "text/x-python",
      "name": "python",
      "nbconvert_exporter": "python",
      "pygments_lexer": "ipython3",
      "version": "3.8.5"
    },
    "colab": {
      "name": "1-classical-ml-with-automatic-differentiation.ipynb",
      "provenance": [],
      "collapsed_sections": []
    }
  },
  "cells": [
    {
      "cell_type": "code",
      "metadata": {
        "id": "BO15OdxKIqzO",
        "colab": {
          "base_uri": "https://localhost:8080/"
        },
        "outputId": "a34eb98d-a41d-4f54-a8f2-a529a9cf0226"
      },
      "source": [
        "import sys\n",
        "\n",
        "## Uncomment this if you don't want to install pennylane from this notebook\n",
        "!{sys.executable} -m pip install pennylane\n",
        "\n",
        "## Uncomment this if you don't want to install matplotlib from this notebook\n",
        "!{sys.executable} -m pip install matplotlib"
      ],
      "execution_count": null,
      "outputs": [
        {
          "output_type": "stream",
          "text": [
            "Collecting pennylane\n",
            "\u001b[?25l  Downloading https://files.pythonhosted.org/packages/5a/0e/248fa5d3913f03cbd03c9c6b3cfbffbde4f52fa54d334bbd86442b49a95f/PennyLane-0.14.0-py3-none-any.whl (480kB)\n",
            "\r\u001b[K     |▊                               | 10kB 13.4MB/s eta 0:00:01\r\u001b[K     |█▍                              | 20kB 10.8MB/s eta 0:00:01\r\u001b[K     |██                              | 30kB 6.6MB/s eta 0:00:01\r\u001b[K     |██▊                             | 40kB 5.9MB/s eta 0:00:01\r\u001b[K     |███▍                            | 51kB 3.5MB/s eta 0:00:01\r\u001b[K     |████                            | 61kB 3.7MB/s eta 0:00:01\r\u001b[K     |████▊                           | 71kB 4.1MB/s eta 0:00:01\r\u001b[K     |█████▌                          | 81kB 4.2MB/s eta 0:00:01\r\u001b[K     |██████▏                         | 92kB 4.6MB/s eta 0:00:01\r\u001b[K     |██████▉                         | 102kB 4.6MB/s eta 0:00:01\r\u001b[K     |███████▌                        | 112kB 4.6MB/s eta 0:00:01\r\u001b[K     |████████▏                       | 122kB 4.6MB/s eta 0:00:01\r\u001b[K     |████████▉                       | 133kB 4.6MB/s eta 0:00:01\r\u001b[K     |█████████▌                      | 143kB 4.6MB/s eta 0:00:01\r\u001b[K     |██████████▏                     | 153kB 4.6MB/s eta 0:00:01\r\u001b[K     |███████████                     | 163kB 4.6MB/s eta 0:00:01\r\u001b[K     |███████████▋                    | 174kB 4.6MB/s eta 0:00:01\r\u001b[K     |████████████▎                   | 184kB 4.6MB/s eta 0:00:01\r\u001b[K     |█████████████                   | 194kB 4.6MB/s eta 0:00:01\r\u001b[K     |█████████████▋                  | 204kB 4.6MB/s eta 0:00:01\r\u001b[K     |██████████████▎                 | 215kB 4.6MB/s eta 0:00:01\r\u001b[K     |███████████████                 | 225kB 4.6MB/s eta 0:00:01\r\u001b[K     |███████████████▊                | 235kB 4.6MB/s eta 0:00:01\r\u001b[K     |████████████████▍               | 245kB 4.6MB/s eta 0:00:01\r\u001b[K     |█████████████████               | 256kB 4.6MB/s eta 0:00:01\r\u001b[K     |█████████████████▊              | 266kB 4.6MB/s eta 0:00:01\r\u001b[K     |██████████████████▍             | 276kB 4.6MB/s eta 0:00:01\r\u001b[K     |███████████████████             | 286kB 4.6MB/s eta 0:00:01\r\u001b[K     |███████████████████▊            | 296kB 4.6MB/s eta 0:00:01\r\u001b[K     |████████████████████▍           | 307kB 4.6MB/s eta 0:00:01\r\u001b[K     |█████████████████████▏          | 317kB 4.6MB/s eta 0:00:01\r\u001b[K     |█████████████████████▉          | 327kB 4.6MB/s eta 0:00:01\r\u001b[K     |██████████████████████▌         | 337kB 4.6MB/s eta 0:00:01\r\u001b[K     |███████████████████████▏        | 348kB 4.6MB/s eta 0:00:01\r\u001b[K     |███████████████████████▉        | 358kB 4.6MB/s eta 0:00:01\r\u001b[K     |████████████████████████▌       | 368kB 4.6MB/s eta 0:00:01\r\u001b[K     |█████████████████████████▏      | 378kB 4.6MB/s eta 0:00:01\r\u001b[K     |██████████████████████████      | 389kB 4.6MB/s eta 0:00:01\r\u001b[K     |██████████████████████████▋     | 399kB 4.6MB/s eta 0:00:01\r\u001b[K     |███████████████████████████▎    | 409kB 4.6MB/s eta 0:00:01\r\u001b[K     |████████████████████████████    | 419kB 4.6MB/s eta 0:00:01\r\u001b[K     |████████████████████████████▋   | 430kB 4.6MB/s eta 0:00:01\r\u001b[K     |█████████████████████████████▎  | 440kB 4.6MB/s eta 0:00:01\r\u001b[K     |██████████████████████████████  | 450kB 4.6MB/s eta 0:00:01\r\u001b[K     |██████████████████████████████▋ | 460kB 4.6MB/s eta 0:00:01\r\u001b[K     |███████████████████████████████▍| 471kB 4.6MB/s eta 0:00:01\r\u001b[K     |████████████████████████████████| 481kB 4.6MB/s \n",
            "\u001b[?25hCollecting semantic-version==2.6\n",
            "  Downloading https://files.pythonhosted.org/packages/28/be/3a7241d731ba89063780279a5433f5971c1cf41735b64a9f874b7c3ff995/semantic_version-2.6.0-py3-none-any.whl\n",
            "Requirement already satisfied: networkx in /usr/local/lib/python3.6/dist-packages (from pennylane) (2.5)\n",
            "Requirement already satisfied: appdirs in /usr/local/lib/python3.6/dist-packages (from pennylane) (1.4.4)\n",
            "Requirement already satisfied: toml in /usr/local/lib/python3.6/dist-packages (from pennylane) (0.10.2)\n",
            "Requirement already satisfied: numpy in /usr/local/lib/python3.6/dist-packages (from pennylane) (1.19.5)\n",
            "Requirement already satisfied: autograd in /usr/local/lib/python3.6/dist-packages (from pennylane) (1.3)\n",
            "Requirement already satisfied: scipy in /usr/local/lib/python3.6/dist-packages (from pennylane) (1.4.1)\n",
            "Requirement already satisfied: decorator>=4.3.0 in /usr/local/lib/python3.6/dist-packages (from networkx->pennylane) (4.4.2)\n",
            "Requirement already satisfied: future>=0.15.2 in /usr/local/lib/python3.6/dist-packages (from autograd->pennylane) (0.16.0)\n",
            "Installing collected packages: semantic-version, pennylane\n",
            "Successfully installed pennylane-0.14.0 semantic-version-2.6.0\n",
            "Requirement already satisfied: matplotlib in /usr/local/lib/python3.6/dist-packages (3.2.2)\n",
            "Requirement already satisfied: cycler>=0.10 in /usr/local/lib/python3.6/dist-packages (from matplotlib) (0.10.0)\n",
            "Requirement already satisfied: pyparsing!=2.0.4,!=2.1.2,!=2.1.6,>=2.0.1 in /usr/local/lib/python3.6/dist-packages (from matplotlib) (2.4.7)\n",
            "Requirement already satisfied: kiwisolver>=1.0.1 in /usr/local/lib/python3.6/dist-packages (from matplotlib) (1.3.1)\n",
            "Requirement already satisfied: numpy>=1.11 in /usr/local/lib/python3.6/dist-packages (from matplotlib) (1.19.5)\n",
            "Requirement already satisfied: python-dateutil>=2.1 in /usr/local/lib/python3.6/dist-packages (from matplotlib) (2.8.1)\n",
            "Requirement already satisfied: six in /usr/local/lib/python3.6/dist-packages (from cycler>=0.10->matplotlib) (1.15.0)\n"
          ],
          "name": "stdout"
        }
      ]
    },
    {
      "cell_type": "code",
      "metadata": {
        "id": "pgyvgjxaIqzX"
      },
      "source": [
        "import pennylane as qml\n",
        "from pennylane import numpy as np # This will import a special, \"differentiable\" version of numpy.\n",
        "\n",
        "import matplotlib.pyplot as plt\n",
        "%matplotlib inline\n",
        "\n",
        "np.random.seed(42)"
      ],
      "execution_count": null,
      "outputs": []
    },
    {
      "cell_type": "markdown",
      "metadata": {
        "id": "a1wTPd1bIqzY"
      },
      "source": [
        "# Training a machine learning model with automatic differentiation"
      ]
    },
    {
      "cell_type": "markdown",
      "metadata": {
        "id": "OEpTCnDfIqzZ"
      },
      "source": [
        "In this tutorial we will: \n",
        "\n",
        "* implement a toy version of a typical machine learning setup,\n",
        "* understand how automatic differentiation allows us to compute gradients of the machine learning model, and\n",
        "* use automatic differentiation to train the model."
      ]
    },
    {
      "cell_type": "markdown",
      "metadata": {
        "id": "qDBgcel5IqzZ"
      },
      "source": [
        "## 1. The three basic ingredients"
      ]
    },
    {
      "cell_type": "markdown",
      "metadata": {
        "id": "3kDt_140Iqza"
      },
      "source": [
        "A machine learning problem usually consists of *data*, a *model (family)* and a *cost function*: \n",
        "\n",
        "<br />\n",
        "<img src=\"figures/data-model-cost.png\" width=\"500\" height=\"400\">\n",
        "<br />\n",
        "\n",
        "*Training* selects the best model from the family by minimising the cost on a training set of data samples. If we design the optimisation problem well, the trained model will also have a low cost on new sets of data samples that have not been used in training. This means that the model *generalises* well. \n",
        "\n",
        "We will now create examples for each ingredient."
      ]
    },
    {
      "cell_type": "markdown",
      "metadata": {
        "id": "4Hd3Pt8iIqzb"
      },
      "source": [
        "### Data\n",
        "\n",
        "Let us create a two-dimensional toy dataset."
      ]
    },
    {
      "cell_type": "code",
      "metadata": {
        "id": "ISZgnXGQIqzb",
        "colab": {
          "base_uri": "https://localhost:8080/",
          "height": 265
        },
        "outputId": "6212a1e0-6585-4c22-e2b6-b972052b5657"
      },
      "source": [
        "n_samples = 100\n",
        "X0 = np.array([[np.random.normal(loc=-1, scale=1), \n",
        "                np.random.normal(loc=1, scale=1)] for i in range(n_samples//2)]) \n",
        "X1 = np.array([[np.random.normal(loc=1, scale=1), \n",
        "                np.random.normal(loc=-1, scale=1)] for i in range(n_samples//2)]) \n",
        "X = np.concatenate([X0, X1], axis=0)\n",
        "Y = np.concatenate([-np.ones(50), np.ones(50)], axis=0)\n",
        "data = list(zip(X, Y))\n",
        "\n",
        "\n",
        "plt.scatter(X0[:,0], X0[:,1])\n",
        "plt.scatter(X1[:,0], X1[:,1])\n",
        "plt.show()"
      ],
      "execution_count": null,
      "outputs": [
        {
          "output_type": "display_data",
          "data": {
            "image/png": "[encoded data removed]",
            "text/plain": [
              "<Figure size 432x288 with 1 Axes>"
            ]
          },
          "metadata": {
            "tags": [],
            "needs_background": "light"
          }
        }
      ]
    },
    {
      "cell_type": "markdown",
      "metadata": {
        "id": "I6j7011GIqzd"
      },
      "source": [
        "### Model family\n",
        "\n",
        "Next, we construct a linear model."
      ]
    },
    {
      "cell_type": "code",
      "metadata": {
        "id": "QFtKP4kLIqze"
      },
      "source": [
        "def model(x, w):\n",
        "    return np.dot(x, w)"
      ],
      "execution_count": null,
      "outputs": []
    },
    {
      "cell_type": "markdown",
      "metadata": {
        "id": "oXtG0RrNIqze"
      },
      "source": [
        "Let's try it out."
      ]
    },
    {
      "cell_type": "code",
      "metadata": {
        "id": "Aeqn8-F5Iqzf",
        "colab": {
          "base_uri": "https://localhost:8080/"
        },
        "outputId": "9dcb3698-9d37-4c4f-ccdf-63c1c977058b"
      },
      "source": [
        "w = np.array([-0.5, -0.2])\n",
        "\n",
        "model(X0[0], w)"
      ],
      "execution_count": null,
      "outputs": [
        {
          "output_type": "execute_result",
          "data": {
            "text/plain": [
              "-0.2725555518098268"
            ]
          },
          "metadata": {
            "tags": []
          },
          "execution_count": 84
        }
      ]
    },
    {
      "cell_type": "markdown",
      "metadata": {
        "id": "pdYFWBTmIqzf"
      },
      "source": [
        "We can plot the decision boundary, or the area in data space where the model flips from a negative to a positive prediction"
      ]
    },
    {
      "cell_type": "code",
      "metadata": {
        "id": "Hj1WsTMzIqzf",
        "colab": {
          "base_uri": "https://localhost:8080/",
          "height": 265
        },
        "outputId": "a12ea17a-2e72-4d4d-dc1d-ea57557634b4"
      },
      "source": [
        "plt.scatter(X0[:,0], X0[:,1])\n",
        "plt.scatter(X1[:,0], X1[:,1])\n",
        "\n",
        "plt.arrow(0, 0, w[0], w[1], head_width=0.3, head_length=0.3, fc='r', ec='r')\n",
        "plt.plot([-3*w[1], 3*w[1]], [3*w[0], -3*w[0]], 'k-')\n",
        "plt.show()"
      ],
      "execution_count": null,
      "outputs": [
        {
          "output_type": "display_data",
          "data": {
            "image/png": "[encoded data removed]",
            "text/plain": [
              "<Figure size 432x288 with 1 Axes>"
            ]
          },
          "metadata": {
            "tags": [],
            "needs_background": "light"
          }
        }
      ]
    },
    {
      "cell_type": "markdown",
      "metadata": {
        "id": "KB9PYPxxIqzg"
      },
      "source": [
        "### Cost function\n",
        "\n",
        "How good is the model on a single input-output training pair?"
      ]
    },
    {
      "cell_type": "code",
      "metadata": {
        "id": "pKLdoDYcIqzh"
      },
      "source": [
        "def loss(a, b):\n",
        "    return (a - b)**2"
      ],
      "execution_count": null,
      "outputs": []
    },
    {
      "cell_type": "markdown",
      "metadata": {
        "id": "kFmNPQNZIqzh"
      },
      "source": [
        "What is the average loss on a data set of multiple pairs?"
      ]
    },
    {
      "cell_type": "code",
      "metadata": {
        "id": "CUmhMBauIqzh"
      },
      "source": [
        "def average_loss(w, data):\n",
        "    c = 0\n",
        "    for x, y in data:\n",
        "        prediction = model(x, w)\n",
        "        c += loss(prediction, y)\n",
        "    return c/len(data)"
      ],
      "execution_count": null,
      "outputs": []
    },
    {
      "cell_type": "code",
      "metadata": {
        "id": "YmX4e_CyIqzj",
        "colab": {
          "base_uri": "https://localhost:8080/"
        },
        "outputId": "b38984c7-6199-4e4d-c114-6ab8a2ba608c"
      },
      "source": [
        "w = np.array([1.3, -0.4])\n",
        "average_loss(w, data)"
      ],
      "execution_count": null,
      "outputs": [
        {
          "output_type": "execute_result",
          "data": {
            "text/plain": [
              "5.722260041954332"
            ]
          },
          "metadata": {
            "tags": []
          },
          "execution_count": 87
        }
      ]
    },
    {
      "cell_type": "markdown",
      "metadata": {
        "id": "WbmS0U3nIqzj"
      },
      "source": [
        "## 2. Gradients\n",
        "\n",
        "Because we imported PennyLane's numpy version, we can now compute gradients of the average loss with respect to the weights!"
      ]
    },
    {
      "cell_type": "code",
      "metadata": {
        "id": "6Z3LKFGYIqzk",
        "colab": {
          "base_uri": "https://localhost:8080/"
        },
        "outputId": "85f4233e-269a-458c-caaf-9bded3cb58cd"
      },
      "source": [
        "gradient_fn = qml.grad(average_loss, argnum=0)\n",
        "gradient_fn(w, data)"
      ],
      "execution_count": null,
      "outputs": [
        {
          "output_type": "execute_result",
          "data": {
            "text/plain": [
              "array([ 9.04721722, -2.72486769])"
            ]
          },
          "metadata": {
            "tags": []
          },
          "execution_count": 88
        }
      ]
    },
    {
      "cell_type": "markdown",
      "metadata": {
        "id": "lspDW_OfIqzk"
      },
      "source": [
        "We can use gradients to guess better candidates for parameters."
      ]
    },
    {
      "cell_type": "code",
      "metadata": {
        "id": "anRw4PftIqzt"
      },
      "source": [
        "w_new = w - 0.05*gradient_fn(w, data)"
      ],
      "execution_count": null,
      "outputs": []
    },
    {
      "cell_type": "code",
      "metadata": {
        "id": "hpThoHzdIqzu",
        "colab": {
          "base_uri": "https://localhost:8080/"
        },
        "outputId": "aacdc25b-23b0-44c9-cbcb-cbf8a7c833ff"
      },
      "source": [
        "average_loss(w_new, data)"
      ],
      "execution_count": null,
      "outputs": [
        {
          "output_type": "execute_result",
          "data": {
            "text/plain": [
              "3.630609678408535"
            ]
          },
          "metadata": {
            "tags": []
          },
          "execution_count": 78
        }
      ]
    },
    {
      "cell_type": "markdown",
      "metadata": {
        "id": "EaBlvl9UdxEg"
      },
      "source": [
        "This works because the gradient always points towards the steepest ascent in the cost landscape."
      ]
    },
    {
      "cell_type": "code",
      "metadata": {
        "id": "FyjCbeNUdHYS",
        "colab": {
          "base_uri": "https://localhost:8080/",
          "height": 285
        },
        "outputId": "46c688c6-c17e-433e-9c8a-934fa1f63e51"
      },
      "source": [
        "# compute the gradient at some point in parameter space\n",
        "some_w = np.array([-0.6, 0.5])\n",
        "g = 0.01*gradient_fn(some_w, data)\n",
        "\n",
        "# make a contourplot of the cost\n",
        "w1s = np.linspace(-2, 2)\n",
        "w2s = np.linspace(-2, 2)\n",
        "cost_grid = []\n",
        "for w1 in w1s:\n",
        "    for w2 in w2s:\n",
        "        w = np.array([w1, w2])\n",
        "        cost_grid.append(average_loss(w, data))\n",
        "cost_grid = np.array(cost_grid).reshape((50, 50))\n",
        "plt.contourf(w1s, w2s, cost_grid.T, cmap=cmap)\n",
        "\n",
        "plt.arrow(some_w[0], some_w[1], some_w[0] + g[0], some_w[1] + g[1], head_width=0.3, head_length=0.3, fc='r', ec='r')\n",
        "plt.xlabel(r\"$w_1$\")\n",
        "plt.ylabel(r\"$w_2$\")\n",
        "plt.show()"
      ],
      "execution_count": null,
      "outputs": [
        {
          "output_type": "display_data",
          "data": {
            "image/png": "[encoded data removed]",
            "text/plain": [
              "<Figure size 432x288 with 1 Axes>"
            ]
          },
          "metadata": {
            "tags": [],
            "needs_background": "light"
          }
        }
      ]
    },
    {
      "cell_type": "markdown",
      "metadata": {
        "id": "A6DHQzw1Iqzv"
      },
      "source": [
        "## 3. Training\n",
        "\n",
        "Putting it all together, we can train the linear model."
      ]
    },
    {
      "cell_type": "code",
      "metadata": {
        "id": "zfZZLaUeIqzv",
        "colab": {
          "base_uri": "https://localhost:8080/"
        },
        "outputId": "61dc1e54-8382-433c-eb82-02e8afd87afb"
      },
      "source": [
        "w_init = np.random.random(size=(2,))\n",
        "w = np.array(w_init)\n",
        "\n",
        "history = []\n",
        "for i in range(15):\n",
        "    w_new = w - 0.05*gradient(w, data)\n",
        "    print(average_loss(w_new, data))\n",
        "    history.append(w_new)\n",
        "    w = w_new"
      ],
      "execution_count": null,
      "outputs": [
        {
          "output_type": "stream",
          "text": [
            "1.5144018097026404\n",
            "1.1808508370191566\n",
            "0.9679057872944832\n",
            "0.8225497121259187\n",
            "0.7200707131234833\n",
            "0.6467650044374743\n",
            "0.5939964244070769\n",
            "0.5559089393565819\n",
            "0.5283865622857313\n",
            "0.5084889919125516\n",
            "0.49410089930183554\n",
            "0.4836958516584911\n",
            "0.4761709495674783\n",
            "0.4707288764704334\n",
            "0.4667930971746499\n"
          ],
          "name": "stdout"
        }
      ]
    },
    {
      "cell_type": "code",
      "metadata": {
        "colab": {
          "base_uri": "https://localhost:8080/",
          "height": 285
        },
        "id": "W52Va1_Xdv2m",
        "outputId": "82ddf448-b315-48f5-eeb7-f96ba8e2bfa9"
      },
      "source": [
        "plt.contourf(w1s, w2s, cost_grid.T, cmap=cmap)\n",
        "history = np.array(history)\n",
        "plt.plot(history[:, 0], history[:, 1], \"-o\")\n",
        "plt.xlabel(r\"$w_1$\")\n",
        "plt.ylabel(r\"$w_2$\")\n",
        "plt.show()"
      ],
      "execution_count": null,
      "outputs": [
        {
          "output_type": "display_data",
          "data": {
            "image/png": "[encoded data removed]",
            "text/plain": [
              "<Figure size 432x288 with 1 Axes>"
            ]
          },
          "metadata": {
            "tags": [],
            "needs_background": "light"
          }
        }
      ]
    },
    {
      "cell_type": "code",
      "metadata": {
        "id": "GhWrlpcDIqzw",
        "colab": {
          "base_uri": "https://localhost:8080/",
          "height": 265
        },
        "outputId": "b7f319df-6f21-49c8-ad04-8f69a0fc6cd4"
      },
      "source": [
        "plt.scatter(X0[:,0], X0[:,1])\n",
        "plt.scatter(X1[:,0], X1[:,1])\n",
        "\n",
        "plt.arrow(0, 0, w[0], w[1], head_width=0.3, head_length=0.3, fc='r', ec='r')\n",
        "plt.plot([-3*w[1], 3*w[1]], [3*w[0], -3*w[0]], 'k-')\n",
        "plt.show()"
      ],
      "execution_count": null,
      "outputs": [
        {
          "output_type": "display_data",
          "data": {
            "image/png": "[encoded data removed]",
            "text/plain": [
              "<Figure size 432x288 with 1 Axes>"
            ]
          },
          "metadata": {
            "tags": [],
            "needs_background": "light"
          }
        }
      ]
    },
    {
      "cell_type": "markdown",
      "metadata": {
        "id": "lmaw2mGpIqzw"
      },
      "source": [
        "#  ====== TASKS =============\n",
        "\n",
        "\n",
        "\n",
        "1. Add a constant scalar bias term $b \\in \\mathbb{R}$ to the model,\n",
        "\n",
        "    $$ f(x, w) = \\langle w, x \\rangle + b, $$\n",
        "\n",
        "   and train both $w$ and $b$ at the same time.\n",
        "   \n",
        "\n",
        "2. Change the model to a neural network with a single hidden layer.\n",
        "\n",
        "    $$ f(x, w, W) = \\langle w, \\varphi(Wx) \\rangle,$$\n",
        "\n",
        "   where $W$ is a weight matrix of suitable dimension and $\\varphi$ a hand-coded nonlinar activation function. \n",
        "   \n",
        "   Tipp: You can use the vector-valued sigmoid function \n",
        "   \n",
        "   ```\n",
        "   def sigmoid(z):\n",
        "        return 1/(1 + np.exp(-x))\n",
        "   ```\n",
        "   \n",
        "\n",
        "3. Code up the above example using PyTorch."
      ]
    },
    {
      "cell_type": "code",
      "metadata": {
        "id": "26eR11IIIqzx"
      },
      "source": [
        ""
      ],
      "execution_count": null,
      "outputs": []
    }
  ]
}